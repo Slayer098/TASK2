{
 "cells": [
  {
   "cell_type": "markdown",
   "id": "d7759335",
   "metadata": {},
   "source": [
    "<img src=\"https://www.ikiam.edu.ec/img/logo-ikiam-grey.png\" width=300 height=240 />\n",
    "\n",
    "\n",
    "## GBI6-2021II: BIOINFORMÁTICA\n",
    "## Map of science \n",
    "### Nombre: Anderson Yumbo\n",
    "#### Basado en las sesiones de Visualización de datos y Expresiones resulares. Realice una adaptación de la solución del MAP OF SCIENCE. Se requiere dos  adaptaciones para resolver esta actividad:\n"
   ]
  },
  {
   "cell_type": "code",
   "execution_count": 1,
   "id": "ccd28ecf",
   "metadata": {},
   "outputs": [],
   "source": [
    "import re\n",
    "import csv\n",
    "import pandas as pd\n",
    "import matplotlib.pyplot as pltb"
   ]
  },
  {
   "cell_type": "code",
   "execution_count": 2,
   "id": "13495893",
   "metadata": {},
   "outputs": [],
   "source": [
    "\n",
    "import re\n",
    "with open('./pubmed-metabolito-set.txt',\"r\", encoding='utf-8-sig') as f:\n",
    "    my_text = f.read()\n",
    "    my_text = re.sub(r'\\n\\s{6}', ' ', my_text)"
   ]
  },
  {
   "cell_type": "code",
   "execution_count": 3,
   "id": "028b915b",
   "metadata": {},
   "outputs": [],
   "source": [
    " text1 = re.findall(r\"\\,\\s[A-Z]+[A-z]{2,11}\\.\", my_text) \n"
   ]
  },
  {
   "cell_type": "code",
   "execution_count": 4,
   "id": "13c92b15",
   "metadata": {},
   "outputs": [
    {
     "name": "stdout",
     "output_type": "stream",
     "text": [
      "[', Australia.', ', Belgium.', ', Col.', ', France.', ', Germany.']\n"
     ]
    }
   ],
   "source": [
    "    unique_text =list(set(text1))\n",
    "    unique_text.sort()\n",
    "    a = unique_text\n",
    "    print(a[:5])"
   ]
  },
  {
   "cell_type": "code",
   "execution_count": 5,
   "id": "fcd02176",
   "metadata": {},
   "outputs": [],
   "source": [
    "\n",
    "b = unique_text\n",
    "    "
   ]
  },
  {
   "cell_type": "code",
   "execution_count": 6,
   "id": "8a902b23",
   "metadata": {},
   "outputs": [
    {
     "name": "stdout",
     "output_type": "stream",
     "text": [
      "\n",
      "La lista de países es:  [', Australia.', ', Belgium.', ', France.', ', Germany.', ', Iran.', ', Italy.', ', Japan.', ', Luxembourg.', ', Mexico.', ', USA.']\n"
     ]
    }
   ],
   "source": [
    "\n",
    "    b.remove(', Col.')\n",
    "    print() # Se da un enter\n",
    "    print('La lista de países es: ', b)\n",
    "    "
   ]
  },
  {
   "cell_type": "code",
   "execution_count": 7,
   "id": "bd75bfa4",
   "metadata": {},
   "outputs": [
    {
     "name": "stdout",
     "output_type": "stream",
     "text": [
      "\n",
      "La lista definitiva es:  ['Australia', 'Belgium', 'France', 'Germany', 'Iran', 'Italy', 'Japan', 'Luxembourg', 'Mexico']\n"
     ]
    }
   ],
   "source": [
    "    c = \"\".join(b)\n",
    "    d = c.split(\", \")\n",
    "    e = \"\".join(d)\n",
    "    f = e.split(\".\")\n",
    "    f.pop(9)\n",
    "    f.remove(\"\")\n",
    "    g = f\n",
    "    print()\n",
    "    print('La lista definitiva es: ', g)"
   ]
  },
  {
   "cell_type": "code",
   "execution_count": null,
   "id": "d03b6c5a",
   "metadata": {},
   "outputs": [],
   "source": []
  },
  {
   "cell_type": "code",
   "execution_count": 8,
   "id": "91303478",
   "metadata": {},
   "outputs": [
    {
     "data": {
      "text/html": [
       "<div>\n",
       "<style scoped>\n",
       "    .dataframe tbody tr th:only-of-type {\n",
       "        vertical-align: middle;\n",
       "    }\n",
       "\n",
       "    .dataframe tbody tr th {\n",
       "        vertical-align: top;\n",
       "    }\n",
       "\n",
       "    .dataframe thead th {\n",
       "        text-align: right;\n",
       "    }\n",
       "</style>\n",
       "<table border=\"1\" class=\"dataframe\">\n",
       "  <thead>\n",
       "    <tr style=\"text-align: right;\">\n",
       "      <th></th>\n",
       "      <th>country</th>\n",
       "      <th>latitude</th>\n",
       "      <th>longitude</th>\n",
       "      <th>name</th>\n",
       "    </tr>\n",
       "  </thead>\n",
       "  <tbody>\n",
       "    <tr>\n",
       "      <th>0</th>\n",
       "      <td>AD</td>\n",
       "      <td>42.546245</td>\n",
       "      <td>1.601554</td>\n",
       "      <td>Andorra</td>\n",
       "    </tr>\n",
       "    <tr>\n",
       "      <th>1</th>\n",
       "      <td>AE</td>\n",
       "      <td>23.424076</td>\n",
       "      <td>53.847818</td>\n",
       "      <td>United Arab Emirates</td>\n",
       "    </tr>\n",
       "    <tr>\n",
       "      <th>2</th>\n",
       "      <td>AF</td>\n",
       "      <td>33.939110</td>\n",
       "      <td>67.709953</td>\n",
       "      <td>Afghanistan</td>\n",
       "    </tr>\n",
       "    <tr>\n",
       "      <th>3</th>\n",
       "      <td>AG</td>\n",
       "      <td>17.060816</td>\n",
       "      <td>-61.796428</td>\n",
       "      <td>Antigua and Barbuda</td>\n",
       "    </tr>\n",
       "    <tr>\n",
       "      <th>4</th>\n",
       "      <td>AI</td>\n",
       "      <td>18.220554</td>\n",
       "      <td>-63.068615</td>\n",
       "      <td>Anguilla</td>\n",
       "    </tr>\n",
       "    <tr>\n",
       "      <th>5</th>\n",
       "      <td>AL</td>\n",
       "      <td>41.153332</td>\n",
       "      <td>20.168331</td>\n",
       "      <td>Albania</td>\n",
       "    </tr>\n",
       "    <tr>\n",
       "      <th>6</th>\n",
       "      <td>AM</td>\n",
       "      <td>40.069099</td>\n",
       "      <td>45.038189</td>\n",
       "      <td>Armenia</td>\n",
       "    </tr>\n",
       "    <tr>\n",
       "      <th>7</th>\n",
       "      <td>AN</td>\n",
       "      <td>12.226079</td>\n",
       "      <td>-69.060087</td>\n",
       "      <td>Netherlands Antilles</td>\n",
       "    </tr>\n",
       "    <tr>\n",
       "      <th>8</th>\n",
       "      <td>AO</td>\n",
       "      <td>-11.202692</td>\n",
       "      <td>17.873887</td>\n",
       "      <td>Angola</td>\n",
       "    </tr>\n",
       "    <tr>\n",
       "      <th>9</th>\n",
       "      <td>AQ</td>\n",
       "      <td>-75.250973</td>\n",
       "      <td>-0.071389</td>\n",
       "      <td>Antarctica</td>\n",
       "    </tr>\n",
       "  </tbody>\n",
       "</table>\n",
       "</div>"
      ],
      "text/plain": [
       "  country   latitude  longitude                  name\n",
       "0      AD  42.546245   1.601554               Andorra\n",
       "1      AE  23.424076  53.847818  United Arab Emirates\n",
       "2      AF  33.939110  67.709953           Afghanistan\n",
       "3      AG  17.060816 -61.796428   Antigua and Barbuda\n",
       "4      AI  18.220554 -63.068615              Anguilla\n",
       "5      AL  41.153332  20.168331               Albania\n",
       "6      AM  40.069099  45.038189               Armenia\n",
       "7      AN  12.226079 -69.060087  Netherlands Antilles\n",
       "8      AO -11.202692  17.873887                Angola\n",
       "9      AQ -75.250973  -0.071389            Antarctica"
      ]
     },
     "execution_count": 8,
     "metadata": {},
     "output_type": "execute_result"
    }
   ],
   "source": [
    "data = pd.read_csv('./Paises.csv', engine='python', skipfooter=3)\n",
    "data.head(10)"
   ]
  },
  {
   "cell_type": "code",
   "execution_count": 9,
   "id": "6d013beb",
   "metadata": {},
   "outputs": [
    {
     "data": {
      "text/html": [
       "<div>\n",
       "<style scoped>\n",
       "    .dataframe tbody tr th:only-of-type {\n",
       "        vertical-align: middle;\n",
       "    }\n",
       "\n",
       "    .dataframe tbody tr th {\n",
       "        vertical-align: top;\n",
       "    }\n",
       "\n",
       "    .dataframe thead th {\n",
       "        text-align: right;\n",
       "    }\n",
       "</style>\n",
       "<table border=\"1\" class=\"dataframe\">\n",
       "  <thead>\n",
       "    <tr style=\"text-align: right;\">\n",
       "      <th></th>\n",
       "      <th>country</th>\n",
       "      <th>latitude</th>\n",
       "      <th>longitude</th>\n",
       "      <th>name</th>\n",
       "    </tr>\n",
       "  </thead>\n",
       "  <tbody>\n",
       "    <tr>\n",
       "      <th>13</th>\n",
       "      <td>AU</td>\n",
       "      <td>-25.274398</td>\n",
       "      <td>133.775136</td>\n",
       "      <td>Australia</td>\n",
       "    </tr>\n",
       "    <tr>\n",
       "      <th>19</th>\n",
       "      <td>BE</td>\n",
       "      <td>50.503887</td>\n",
       "      <td>4.469936</td>\n",
       "      <td>Belgium</td>\n",
       "    </tr>\n",
       "    <tr>\n",
       "      <th>53</th>\n",
       "      <td>DE</td>\n",
       "      <td>51.165691</td>\n",
       "      <td>10.451526</td>\n",
       "      <td>Germany</td>\n",
       "    </tr>\n",
       "    <tr>\n",
       "      <th>71</th>\n",
       "      <td>FR</td>\n",
       "      <td>46.227638</td>\n",
       "      <td>2.213749</td>\n",
       "      <td>France</td>\n",
       "    </tr>\n",
       "    <tr>\n",
       "      <th>105</th>\n",
       "      <td>IR</td>\n",
       "      <td>32.427908</td>\n",
       "      <td>53.688046</td>\n",
       "      <td>Iran</td>\n",
       "    </tr>\n",
       "    <tr>\n",
       "      <th>107</th>\n",
       "      <td>IT</td>\n",
       "      <td>41.871940</td>\n",
       "      <td>12.567380</td>\n",
       "      <td>Italy</td>\n",
       "    </tr>\n",
       "    <tr>\n",
       "      <th>111</th>\n",
       "      <td>JP</td>\n",
       "      <td>36.204824</td>\n",
       "      <td>138.252924</td>\n",
       "      <td>Japan</td>\n",
       "    </tr>\n",
       "    <tr>\n",
       "      <th>131</th>\n",
       "      <td>LU</td>\n",
       "      <td>49.815273</td>\n",
       "      <td>6.129583</td>\n",
       "      <td>Luxembourg</td>\n",
       "    </tr>\n",
       "    <tr>\n",
       "      <th>153</th>\n",
       "      <td>MX</td>\n",
       "      <td>23.634501</td>\n",
       "      <td>-102.552784</td>\n",
       "      <td>Mexico</td>\n",
       "    </tr>\n",
       "  </tbody>\n",
       "</table>\n",
       "</div>"
      ],
      "text/plain": [
       "    country   latitude   longitude        name\n",
       "13       AU -25.274398  133.775136   Australia\n",
       "19       BE  50.503887    4.469936     Belgium\n",
       "53       DE  51.165691   10.451526     Germany\n",
       "71       FR  46.227638    2.213749      France\n",
       "105      IR  32.427908   53.688046        Iran\n",
       "107      IT  41.871940   12.567380       Italy\n",
       "111      JP  36.204824  138.252924       Japan\n",
       "131      LU  49.815273    6.129583  Luxembourg\n",
       "153      MX  23.634501 -102.552784      Mexico"
      ]
     },
     "execution_count": 9,
     "metadata": {},
     "output_type": "execute_result"
    }
   ],
   "source": [
    "name = data[data.name.isin(g)]\n",
    "name.head(10)"
   ]
  },
  {
   "cell_type": "code",
   "execution_count": 10,
   "id": "67feba2f",
   "metadata": {},
   "outputs": [
    {
     "data": {
      "text/html": [
       "<div>\n",
       "<style scoped>\n",
       "    .dataframe tbody tr th:only-of-type {\n",
       "        vertical-align: middle;\n",
       "    }\n",
       "\n",
       "    .dataframe tbody tr th {\n",
       "        vertical-align: top;\n",
       "    }\n",
       "\n",
       "    .dataframe thead th {\n",
       "        text-align: right;\n",
       "    }\n",
       "</style>\n",
       "<table border=\"1\" class=\"dataframe\">\n",
       "  <thead>\n",
       "    <tr style=\"text-align: right;\">\n",
       "      <th></th>\n",
       "      <th>country</th>\n",
       "      <th>latitude</th>\n",
       "      <th>longitude</th>\n",
       "      <th>name</th>\n",
       "    </tr>\n",
       "  </thead>\n",
       "  <tbody>\n",
       "    <tr>\n",
       "      <th>13</th>\n",
       "      <td>AU</td>\n",
       "      <td>-25.274398</td>\n",
       "      <td>133.775136</td>\n",
       "      <td>Australia</td>\n",
       "    </tr>\n",
       "    <tr>\n",
       "      <th>19</th>\n",
       "      <td>BE</td>\n",
       "      <td>50.503887</td>\n",
       "      <td>4.469936</td>\n",
       "      <td>Belgium</td>\n",
       "    </tr>\n",
       "    <tr>\n",
       "      <th>71</th>\n",
       "      <td>FR</td>\n",
       "      <td>46.227638</td>\n",
       "      <td>2.213749</td>\n",
       "      <td>France</td>\n",
       "    </tr>\n",
       "    <tr>\n",
       "      <th>53</th>\n",
       "      <td>DE</td>\n",
       "      <td>51.165691</td>\n",
       "      <td>10.451526</td>\n",
       "      <td>Germany</td>\n",
       "    </tr>\n",
       "    <tr>\n",
       "      <th>105</th>\n",
       "      <td>IR</td>\n",
       "      <td>32.427908</td>\n",
       "      <td>53.688046</td>\n",
       "      <td>Iran</td>\n",
       "    </tr>\n",
       "    <tr>\n",
       "      <th>107</th>\n",
       "      <td>IT</td>\n",
       "      <td>41.871940</td>\n",
       "      <td>12.567380</td>\n",
       "      <td>Italy</td>\n",
       "    </tr>\n",
       "    <tr>\n",
       "      <th>111</th>\n",
       "      <td>JP</td>\n",
       "      <td>36.204824</td>\n",
       "      <td>138.252924</td>\n",
       "      <td>Japan</td>\n",
       "    </tr>\n",
       "    <tr>\n",
       "      <th>131</th>\n",
       "      <td>LU</td>\n",
       "      <td>49.815273</td>\n",
       "      <td>6.129583</td>\n",
       "      <td>Luxembourg</td>\n",
       "    </tr>\n",
       "    <tr>\n",
       "      <th>153</th>\n",
       "      <td>MX</td>\n",
       "      <td>23.634501</td>\n",
       "      <td>-102.552784</td>\n",
       "      <td>Mexico</td>\n",
       "    </tr>\n",
       "  </tbody>\n",
       "</table>\n",
       "</div>"
      ],
      "text/plain": [
       "    country   latitude   longitude        name\n",
       "13       AU -25.274398  133.775136   Australia\n",
       "19       BE  50.503887    4.469936     Belgium\n",
       "71       FR  46.227638    2.213749      France\n",
       "53       DE  51.165691   10.451526     Germany\n",
       "105      IR  32.427908   53.688046        Iran\n",
       "107      IT  41.871940   12.567380       Italy\n",
       "111      JP  36.204824  138.252924       Japan\n",
       "131      LU  49.815273    6.129583  Luxembourg\n",
       "153      MX  23.634501 -102.552784      Mexico"
      ]
     },
     "execution_count": 10,
     "metadata": {},
     "output_type": "execute_result"
    }
   ],
   "source": [
    "paises = data[data.country.isin(g)]\n",
    "all_data =pd.concat([name,paises]).drop_duplicates().sort_values('name')\n",
    "all_data.head(10)"
   ]
  },
  {
   "cell_type": "code",
   "execution_count": 12,
   "id": "2071b5d4",
   "metadata": {},
   "outputs": [
    {
     "data": {
      "image/png": "[encoded data removed]",
      "text/plain": [
       "<Figure size 1296x864 with 1 Axes>"
      ]
     },
     "metadata": {
      "needs_background": "light"
     },
     "output_type": "display_data"
    }
   ],
   "source": [
    "pltb.scatter(all_data.longitude, all_data.latitude, s=50, c=all_data.latitude)\n",
    "\n",
    "\n",
    "ard = dict(arrowstyle=\"->\")\n",
    "\n",
    "pltb.annotate('Ucrania', xy = (31.16558,48.379433), \n",
    "               xytext = (31.16558,51), arrowprops= ard)\n",
    "\n",
    "pltb.annotate('EEUU', xy = (-95.712891, 37.09024), \n",
    "               xytext = (-95.712891, 40), arrowprops = ard)\n",
    "\n",
    "pltb.annotate('Brasil', xy = (-51.92528, -14.235004), \n",
    "               xytext = (-51.92528, -11), arrowprops= ard)\n",
    "\n",
    "pltb.annotate('Australia', xy = (133.775136, -25.274398), \n",
    "               xytext = (133.775136, -22), arrowprops= ard)\n",
    "\n",
    "pltb.annotate('Noruega', xy = (8.468946, 60.472024), \n",
    "               xytext = (8.468946, 63), arrowprops= ard)\n",
    "\n",
    "pltb.annotate('China', xy = (104.195397, 35.86166), \n",
    "               xytext = (104.195397, 39), arrowprops= ard)\n",
    "\n",
    "params = pltb.gcf()\n",
    "plSize = params.get_size_inches()\n",
    "params.set_size_inches( (plSize[0] * 3, plSize[1] * 3) )"
   ]
  },
  {
   "cell_type": "code",
   "execution_count": null,
   "id": "f5e357ed",
   "metadata": {},
   "outputs": [],
   "source": []
  }
 ],
 "metadata": {
  "kernelspec": {
   "display_name": "Python 3",
   "language": "python",
   "name": "python3"
  },
  "language_info": {
   "codemirror_mode": {
    "name": "ipython",
    "version": 3
   },
   "file_extension": ".py",
   "mimetype": "text/x-python",
   "name": "python",
   "nbconvert_exporter": "python",
   "pygments_lexer": "ipython3",
   "version": "3.8.8"
  }
 },
 "nbformat": 4,
 "nbformat_minor": 5
}
