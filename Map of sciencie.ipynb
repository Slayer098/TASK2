{
 "cells": [
  {
   "cell_type": "markdown",
   "id": "d7759335",
   "metadata": {},
   "source": [
<<<<<<< HEAD
    "<img src=\"./Ikiam.png\" width=300 height=240 />\n",
=======
    "<img src=\"https://www.ikiam.edu.ec/img/logo-ikiam-grey.png\" width=300 height=240 />\n",
>>>>>>> df5929c669e4de6888ace62206378e97456661f1
    "\n",
    "\n",
    "## GBI6-2021II: BIOINFORMÁTICA\n",
    "## Map of science \n",
    "### Nombre: Anderson Yumbo\n",
    "#### Basado en las sesiones de Visualización de datos y Expresiones resulares. Realice una adaptación de la solución del MAP OF SCIENCE. Se requiere dos  adaptaciones para resolver esta actividad:\n"
   ]
  },
  {
   "cell_type": "code",
   "execution_count": 221,
   "id": "ccd28ecf",
   "metadata": {},
   "outputs": [],
   "source": [
    "import re\n",
    "import csv\n",
    "import pandas as pd\n",
    "import matplotlib.pyplot as pltb\n",
    "import itertools"
   ]
  },
  {
   "cell_type": "code",
   "execution_count": 222,
   "id": "13495893",
   "metadata": {},
   "outputs": [],
   "source": [
    "\n",
    "import re\n",
    "with open('./pubmed-metabolito-set.txt',\"r\", encoding='utf-8-sig') as f:\n",
    "    my_text = f.read()\n",
    "    my_text = re.sub(r'\\n\\s{6}', ' ', my_text)"
   ]
  },
  {
   "cell_type": "code",
   "execution_count": 223,
   "id": "028b915b",
   "metadata": {},
   "outputs": [],
   "source": [
    " text1 = re.findall(r\"\\,\\s[A-Z]+[A-z]{2,11}\\.\", my_text) \n"
   ]
  },
  {
   "cell_type": "code",
   "execution_count": 224,
   "id": "13c92b15",
   "metadata": {},
   "outputs": [
    {
     "name": "stdout",
     "output_type": "stream",
     "text": [
      "[', Australia.', ', Belgium.', ', Col.', ', France.', ', Germany.']\n"
     ]
    }
   ],
   "source": [
    "unique_text =list(set(text1))\n",
    "unique_text.sort()\n",
    "a = unique_text\n",
    "print(a[:5])"
   ]
  },
  {
   "cell_type": "code",
   "execution_count": 225,
   "id": "fcd02176",
   "metadata": {},
   "outputs": [],
   "source": [
    "\n",
    "b = unique_text\n",
    "b.remove(', Col.')"
   ]
  },
  {
   "cell_type": "code",
   "execution_count": 226,
   "id": "8a902b23",
   "metadata": {},
   "outputs": [
    {
     "name": "stdout",
     "output_type": "stream",
     "text": [
      "\n",
      "La lista de países es:  [', Australia.', ', Belgium.', ', France.', ', Germany.', ', Iran.', ', Italy.', ', Japan.', ', Luxembourg.', ', Mexico.', ', USA.']\n"
     ]
    }
   ],
   "source": [
    "\n",
    "    print() \n",
    "    print('La lista de países es: ', b)"
   ]
  },
  {
   "cell_type": "code",
   "execution_count": 227,
   "id": "bd75bfa4",
   "metadata": {},
   "outputs": [
    {
     "name": "stdout",
     "output_type": "stream",
     "text": [
      "\n",
      "La lista definitiva es:  ['Australia', 'Belgium', 'France', 'Germany', 'Iran', 'Italy', 'Japan', 'Luxembourg', 'Mexico', 'USA']\n"
     ]
    }
   ],
   "source": [
    "    c = \"\".join(b)\n",
    "    d = c.split(\", \")\n",
    "    e = \"\".join(d)\n",
    "    f = e.split(\".\")\n",
    "    f.remove(\"\")\n",
    "    g = f\n",
    "    print()\n",
    "    print('La lista definitiva es: ', g)"
   ]
  },
  {
   "cell_type": "code",
   "execution_count": 228,
   "id": "91303478",
   "metadata": {},
   "outputs": [
    {
     "data": {
      "text/html": [
       "<div>\n",
       "<style scoped>\n",
       "    .dataframe tbody tr th:only-of-type {\n",
       "        vertical-align: middle;\n",
       "    }\n",
       "\n",
       "    .dataframe tbody tr th {\n",
       "        vertical-align: top;\n",
       "    }\n",
       "\n",
       "    .dataframe thead th {\n",
       "        text-align: right;\n",
       "    }\n",
       "</style>\n",
       "<table border=\"1\" class=\"dataframe\">\n",
       "  <thead>\n",
       "    <tr style=\"text-align: right;\">\n",
       "      <th></th>\n",
       "      <th>country</th>\n",
       "      <th>latitude</th>\n",
       "      <th>longitude</th>\n",
       "      <th>name</th>\n",
       "    </tr>\n",
       "  </thead>\n",
       "  <tbody>\n",
       "    <tr>\n",
       "      <th>0</th>\n",
       "      <td>AD</td>\n",
       "      <td>42.546245</td>\n",
       "      <td>1.601554</td>\n",
       "      <td>Andorra</td>\n",
       "    </tr>\n",
       "    <tr>\n",
       "      <th>1</th>\n",
       "      <td>AE</td>\n",
       "      <td>23.424076</td>\n",
       "      <td>53.847818</td>\n",
       "      <td>United Arab Emirates</td>\n",
       "    </tr>\n",
       "    <tr>\n",
       "      <th>2</th>\n",
       "      <td>AF</td>\n",
       "      <td>33.939110</td>\n",
       "      <td>67.709953</td>\n",
       "      <td>Afghanistan</td>\n",
       "    </tr>\n",
       "    <tr>\n",
       "      <th>3</th>\n",
       "      <td>AG</td>\n",
       "      <td>17.060816</td>\n",
       "      <td>-61.796428</td>\n",
       "      <td>Antigua and Barbuda</td>\n",
       "    </tr>\n",
       "    <tr>\n",
       "      <th>4</th>\n",
       "      <td>AI</td>\n",
       "      <td>18.220554</td>\n",
       "      <td>-63.068615</td>\n",
       "      <td>Anguilla</td>\n",
       "    </tr>\n",
       "    <tr>\n",
       "      <th>5</th>\n",
       "      <td>AL</td>\n",
       "      <td>41.153332</td>\n",
       "      <td>20.168331</td>\n",
       "      <td>Albania</td>\n",
       "    </tr>\n",
       "    <tr>\n",
       "      <th>6</th>\n",
       "      <td>AM</td>\n",
       "      <td>40.069099</td>\n",
       "      <td>45.038189</td>\n",
       "      <td>Armenia</td>\n",
       "    </tr>\n",
       "    <tr>\n",
       "      <th>7</th>\n",
       "      <td>AN</td>\n",
       "      <td>12.226079</td>\n",
       "      <td>-69.060087</td>\n",
       "      <td>Netherlands Antilles</td>\n",
       "    </tr>\n",
       "    <tr>\n",
       "      <th>8</th>\n",
       "      <td>AO</td>\n",
       "      <td>-11.202692</td>\n",
       "      <td>17.873887</td>\n",
       "      <td>Angola</td>\n",
       "    </tr>\n",
       "    <tr>\n",
       "      <th>9</th>\n",
       "      <td>AQ</td>\n",
       "      <td>-75.250973</td>\n",
       "      <td>-0.071389</td>\n",
       "      <td>Antarctica</td>\n",
       "    </tr>\n",
       "  </tbody>\n",
       "</table>\n",
       "</div>"
      ],
      "text/plain": [
       "  country   latitude  longitude                  name\n",
       "0      AD  42.546245   1.601554               Andorra\n",
       "1      AE  23.424076  53.847818  United Arab Emirates\n",
       "2      AF  33.939110  67.709953           Afghanistan\n",
       "3      AG  17.060816 -61.796428   Antigua and Barbuda\n",
       "4      AI  18.220554 -63.068615              Anguilla\n",
       "5      AL  41.153332  20.168331               Albania\n",
       "6      AM  40.069099  45.038189               Armenia\n",
       "7      AN  12.226079 -69.060087  Netherlands Antilles\n",
       "8      AO -11.202692  17.873887                Angola\n",
       "9      AQ -75.250973  -0.071389            Antarctica"
      ]
     },
     "execution_count": 228,
     "metadata": {},
     "output_type": "execute_result"
    }
   ],
   "source": [
    "data = pd.read_csv('./Paises_ubicacion.csv', engine='python', skipfooter=3)\n",
    "data.head(10)"
   ]
  },
  {
   "cell_type": "code",
   "execution_count": 229,
   "id": "6d013beb",
   "metadata": {},
   "outputs": [
    {
     "data": {
      "text/html": [
       "<div>\n",
       "<style scoped>\n",
       "    .dataframe tbody tr th:only-of-type {\n",
       "        vertical-align: middle;\n",
       "    }\n",
       "\n",
       "    .dataframe tbody tr th {\n",
       "        vertical-align: top;\n",
       "    }\n",
       "\n",
       "    .dataframe thead th {\n",
       "        text-align: right;\n",
       "    }\n",
       "</style>\n",
       "<table border=\"1\" class=\"dataframe\">\n",
       "  <thead>\n",
       "    <tr style=\"text-align: right;\">\n",
       "      <th></th>\n",
       "      <th>country</th>\n",
       "      <th>latitude</th>\n",
       "      <th>longitude</th>\n",
       "      <th>name</th>\n",
       "    </tr>\n",
       "  </thead>\n",
       "  <tbody>\n",
       "    <tr>\n",
       "      <th>13</th>\n",
       "      <td>AU</td>\n",
       "      <td>-25.274398</td>\n",
       "      <td>133.775136</td>\n",
       "      <td>Australia</td>\n",
       "    </tr>\n",
       "    <tr>\n",
       "      <th>19</th>\n",
       "      <td>BE</td>\n",
       "      <td>50.503887</td>\n",
       "      <td>4.469936</td>\n",
       "      <td>Belgium</td>\n",
       "    </tr>\n",
       "    <tr>\n",
       "      <th>53</th>\n",
       "      <td>DE</td>\n",
       "      <td>51.165691</td>\n",
       "      <td>10.451526</td>\n",
       "      <td>Germany</td>\n",
       "    </tr>\n",
       "    <tr>\n",
       "      <th>71</th>\n",
       "      <td>FR</td>\n",
       "      <td>46.227638</td>\n",
       "      <td>2.213749</td>\n",
       "      <td>France</td>\n",
       "    </tr>\n",
       "    <tr>\n",
       "      <th>105</th>\n",
       "      <td>IR</td>\n",
       "      <td>32.427908</td>\n",
       "      <td>53.688046</td>\n",
       "      <td>Iran</td>\n",
       "    </tr>\n",
       "    <tr>\n",
       "      <th>107</th>\n",
       "      <td>IT</td>\n",
       "      <td>41.871940</td>\n",
       "      <td>12.567380</td>\n",
       "      <td>Italy</td>\n",
       "    </tr>\n",
       "    <tr>\n",
       "      <th>111</th>\n",
       "      <td>JP</td>\n",
       "      <td>36.204824</td>\n",
       "      <td>138.252924</td>\n",
       "      <td>Japan</td>\n",
       "    </tr>\n",
       "    <tr>\n",
       "      <th>131</th>\n",
       "      <td>LU</td>\n",
       "      <td>49.815273</td>\n",
       "      <td>6.129583</td>\n",
       "      <td>Luxembourg</td>\n",
       "    </tr>\n",
       "    <tr>\n",
       "      <th>153</th>\n",
       "      <td>MX</td>\n",
       "      <td>23.634501</td>\n",
       "      <td>-102.552784</td>\n",
       "      <td>Mexico</td>\n",
       "    </tr>\n",
       "  </tbody>\n",
       "</table>\n",
       "</div>"
      ],
      "text/plain": [
       "    country   latitude   longitude        name\n",
       "13       AU -25.274398  133.775136   Australia\n",
       "19       BE  50.503887    4.469936     Belgium\n",
       "53       DE  51.165691   10.451526     Germany\n",
       "71       FR  46.227638    2.213749      France\n",
       "105      IR  32.427908   53.688046        Iran\n",
       "107      IT  41.871940   12.567380       Italy\n",
       "111      JP  36.204824  138.252924       Japan\n",
       "131      LU  49.815273    6.129583  Luxembourg\n",
       "153      MX  23.634501 -102.552784      Mexico"
      ]
     },
     "execution_count": 229,
     "metadata": {},
     "output_type": "execute_result"
    }
   ],
   "source": [
    "name = data[data.name.isin(g)]\n",
    "name.head(10)"
   ]
  },
  {
   "cell_type": "code",
   "execution_count": 230,
   "id": "67feba2f",
   "metadata": {},
   "outputs": [
    {
     "data": {
      "text/html": [
       "<div>\n",
       "<style scoped>\n",
       "    .dataframe tbody tr th:only-of-type {\n",
       "        vertical-align: middle;\n",
       "    }\n",
       "\n",
       "    .dataframe tbody tr th {\n",
       "        vertical-align: top;\n",
       "    }\n",
       "\n",
       "    .dataframe thead th {\n",
       "        text-align: right;\n",
       "    }\n",
       "</style>\n",
       "<table border=\"1\" class=\"dataframe\">\n",
       "  <thead>\n",
       "    <tr style=\"text-align: right;\">\n",
       "      <th></th>\n",
       "      <th>country</th>\n",
       "      <th>latitude</th>\n",
       "      <th>longitude</th>\n",
       "      <th>name</th>\n",
       "    </tr>\n",
       "  </thead>\n",
       "  <tbody>\n",
       "    <tr>\n",
       "      <th>13</th>\n",
       "      <td>AU</td>\n",
       "      <td>-25.274398</td>\n",
       "      <td>133.775136</td>\n",
       "      <td>Australia</td>\n",
       "    </tr>\n",
       "    <tr>\n",
       "      <th>19</th>\n",
       "      <td>BE</td>\n",
       "      <td>50.503887</td>\n",
       "      <td>4.469936</td>\n",
       "      <td>Belgium</td>\n",
       "    </tr>\n",
       "    <tr>\n",
       "      <th>71</th>\n",
       "      <td>FR</td>\n",
       "      <td>46.227638</td>\n",
       "      <td>2.213749</td>\n",
       "      <td>France</td>\n",
       "    </tr>\n",
       "    <tr>\n",
       "      <th>53</th>\n",
       "      <td>DE</td>\n",
       "      <td>51.165691</td>\n",
       "      <td>10.451526</td>\n",
       "      <td>Germany</td>\n",
       "    </tr>\n",
       "    <tr>\n",
       "      <th>105</th>\n",
       "      <td>IR</td>\n",
       "      <td>32.427908</td>\n",
       "      <td>53.688046</td>\n",
       "      <td>Iran</td>\n",
       "    </tr>\n",
       "    <tr>\n",
       "      <th>107</th>\n",
       "      <td>IT</td>\n",
       "      <td>41.871940</td>\n",
       "      <td>12.567380</td>\n",
       "      <td>Italy</td>\n",
       "    </tr>\n",
       "    <tr>\n",
       "      <th>111</th>\n",
       "      <td>JP</td>\n",
       "      <td>36.204824</td>\n",
       "      <td>138.252924</td>\n",
       "      <td>Japan</td>\n",
       "    </tr>\n",
       "    <tr>\n",
       "      <th>131</th>\n",
       "      <td>LU</td>\n",
       "      <td>49.815273</td>\n",
       "      <td>6.129583</td>\n",
       "      <td>Luxembourg</td>\n",
       "    </tr>\n",
       "    <tr>\n",
       "      <th>153</th>\n",
       "      <td>MX</td>\n",
       "      <td>23.634501</td>\n",
       "      <td>-102.552784</td>\n",
       "      <td>Mexico</td>\n",
       "    </tr>\n",
       "  </tbody>\n",
       "</table>\n",
       "</div>"
      ],
      "text/plain": [
       "    country   latitude   longitude        name\n",
       "13       AU -25.274398  133.775136   Australia\n",
       "19       BE  50.503887    4.469936     Belgium\n",
       "71       FR  46.227638    2.213749      France\n",
       "53       DE  51.165691   10.451526     Germany\n",
       "105      IR  32.427908   53.688046        Iran\n",
       "107      IT  41.871940   12.567380       Italy\n",
       "111      JP  36.204824  138.252924       Japan\n",
       "131      LU  49.815273    6.129583  Luxembourg\n",
       "153      MX  23.634501 -102.552784      Mexico"
      ]
     },
     "execution_count": 230,
     "metadata": {},
     "output_type": "execute_result"
    }
   ],
   "source": [
    "paises = data[data.country.isin(g)]\n",
    "all_data =pd.concat([name,paises]).drop_duplicates().sort_values('name')\n",
    "all_data.head(10)"
   ]
  },
  {
   "cell_type": "code",
   "execution_count": 231,
   "id": "f5e357ed",
   "metadata": {},
   "outputs": [],
   "source": [
    "import matplotlib.pyplot as plt\n"
   ]
  },
  {
   "cell_type": "code",
   "execution_count": 233,
   "id": "3757bd7d",
   "metadata": {},
   "outputs": [
    {
     "data": {
      "image/png": "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\n",
      "text/plain": [
       "<Figure size 1296x864 with 2 Axes>"
      ]
     },
     "metadata": {
      "needs_background": "light"
     },
     "output_type": "display_data"
    }
   ],
   "source": [
    "pltb.scatter(all_data.longitude, all_data.latitude, s=50, c=all_data.latitude)\n",
    "pltb.colorbar()\n",
    "ard = dict(arrowstyle=\"->\")\n",
    "\n",
    "pltb.annotate('Ucrania', xy = (31.16558,48.379433), \n",
    "               xytext = (31.16558,51), arrowprops= ard)\n",
    "\n",
    "pltb.annotate('EEUU', xy = (-95.712891, 37.09024), \n",
    "               xytext = (-95.712891, 40), arrowprops = ard)\n",
    "\n",
    "pltb.annotate('Brasil', xy = (-51.92528, -14.235004), \n",
    "               xytext = (-51.92528, -11), arrowprops= ard)\n",
    "\n",
    "pltb.annotate('Australia', xy = (133.775136, -25.274398), \n",
    "               xytext = (133.775136, -22), arrowprops= ard)\n",
    "\n",
    "pltb.annotate('Noruega', xy = (8.468946, 60.472024), \n",
    "               xytext = (8.468946, 63), arrowprops= ard)\n",
    "\n",
    "pltb.annotate('China', xy = (104.195397, 35.86166), \n",
    "               xytext = (104.195397, 39), arrowprops= ard)\n",
    "\n",
    "params = pltb.gcf()\n",
    "plSize = params.get_size_inches()\n",
    "params.set_size_inches( (plSize[0] * 3, plSize[1] * 3) )\n",
    "\n",
    "pltb.savefig(\"Map of Science.png\")"
   ]
  },
  {
   "cell_type": "code",
   "execution_count": null,
   "id": "d288310c",
   "metadata": {},
   "outputs": [],
   "source": []
  }
 ],
 "metadata": {
  "kernelspec": {
   "display_name": "Python 3",
   "language": "python",
   "name": "python3"
  },
  "language_info": {
   "codemirror_mode": {
    "name": "ipython",
    "version": 3
   },
   "file_extension": ".py",
   "mimetype": "text/x-python",
   "name": "python",
   "nbconvert_exporter": "python",
   "pygments_lexer": "ipython3",
   "version": "3.8.8"
  }
 },
 "nbformat": 4,
 "nbformat_minor": 5
}
